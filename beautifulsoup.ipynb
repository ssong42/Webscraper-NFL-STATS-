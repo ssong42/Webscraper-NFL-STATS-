{
 "cells": [
  {
   "cell_type": "code",
   "execution_count": 1,
   "metadata": {},
   "outputs": [
    {
     "name": "stdout",
     "output_type": "stream",
     "text": [
      "['San Jose State']\n"
     ]
    }
   ],
   "source": [
    "from requests import get\n",
    "from bs4 import BeautifulSoup\n",
    "\n",
    "url = \"https://www.49ers.com/team/players-roster/\"\n",
    "\n",
    "response = get(url)\n",
    "nfl = BeautifulSoup(response.content, 'html.parser')\n",
    "\n",
    "# 1) parsing a page with hierarchical structure\n",
    "\n",
    "#print(nfl.a)\n",
    "#print(nfl.p)\n",
    "\n",
    "nfl_body = nfl.body\n",
    "\n",
    "a = list(nfl_body.contents[3].contents[7].contents[7].contents[1].contents[1].contents[1].contents[3].contents[1].contents[5].contents[1].contents[15])\n",
    "print(a)"
   ]
  },
  {
   "cell_type": "code",
   "execution_count": 2,
   "metadata": {},
   "outputs": [
    {
     "name": "stdout",
     "output_type": "stream",
     "text": [
      "['San Jose State', 'South Alabama', 'Montana State', 'Arizona State', 'Southern Arkansas', 'Montana State', 'Washington', 'North Texas', 'UCLA', 'South Carolina', 'Dartmouth', 'Tennessee', 'Florida State', 'Frostburg State', 'Houston', 'San Diego', 'Houston', 'Middle Tennessee State', 'Temple', 'Florida', 'Kansas State', 'Southern Miss', 'BYU', 'Washington', 'Notre Dame', 'Idaho', 'North Carolina', 'UCLA', 'Georgia Tech', 'Colorado State', 'Georgia Southern', 'Stanfor', 'Mississippi State', 'Kansas State', 'Wyoming', 'Clemson', 'Ohio State', 'Southern Methodis', 'Central Michigan', 'USC', 'New Hampshire', 'Colorado', 'Utah', 'Pittsburgh', 'Western Kentucky', 'Incarnate Word (Tex.)', 'Florida State', 'Duke', 'Northern Illinois', 'Duke', 'Stanfor', 'Louisiana Tech', 'Boise State', 'Utah', 'Iowa', 'Samfor', 'Michigan', 'UCLA', 'Boise State', 'New Mexico State', 'Northwestern State-Louisiana', 'Stanfor', 'Arizona', 'Louisville', 'Virginia', 'Purdue', 'Penn State', 'Southern Mississippi', 'Texas', 'Penn State', 'Iowa', 'Alabama', 'Virginia Tech', 'Notre Dame', 'Montana', 'Miami (Fla.)', 'Michigan State', 'Michigan State', 'Oregon', 'Eastern Washington', 'Georgia Southern', 'Oregon State', 'Appalachian State', 'Iowa', 'Oregon', 'Mississippi', 'Mount Union', 'Eastern Illinois', 'Harvar']\n"
     ]
    }
   ],
   "source": [
    "nfl_main = nfl.find(id=\"main-content\")\n",
    "a = nfl_main.contents[7].div.div.div.div.table.tbody.children\n",
    "count = 0\n",
    "total = []\n",
    "for i in a:\n",
    "    if count % 2 == 1:\n",
    "        x = str(i.contents[15]).strip('<td>').strip('</td>')\n",
    "        total.append(x)\n",
    "    count+=1\n",
    "    \n",
    "print(total)"
   ]
  },
  {
   "cell_type": "code",
   "execution_count": 4,
   "metadata": {},
   "outputs": [],
   "source": [
    "import csv\n",
    "import re\n",
    "\n",
    "csv_file = open(\"college.csv\",\"w+\")\n",
    "writer = csv.writer(csv_file)\n",
    "writer.writerow(total)\n",
    "csv_file.close()"
   ]
  },
  {
   "cell_type": "code",
   "execution_count": 324,
   "metadata": {},
   "outputs": [
    {
     "name": "stdout",
     "output_type": "stream",
     "text": [
      "['Chris Gonzalez', '6-3', '310', '23', 'G']\n",
      "['Wes Saxton', '6-4', '235', '25', 'TE']\n",
      "['JP Flynn', '6-5', '320', '24', 'OL']\n",
      "['Will Sutton', '6-1', '209', '26', 'DL']\n",
      "['Cedric Thornton', '6-4', '290', '30', 'DL']\n",
      "['Mike Person', '6-4', '300', '30', 'OL']\n",
      "['Coleman Shelton', '6-4', '299', '23', 'OL']\n",
      "['Jeff Wilson', '6-0', '194', '22', 'RB']\n",
      "['Najee Toran', '6-2', '305', '22', 'OL']\n",
      "['Alan Knott', '6-4', '290', '23', 'OL']\n",
      "['Jack Heneghan', '6-4', '230', '22', 'QB']\n",
      "['Emmanuel Moseley', '5-11', '184', '22', 'CB']\n",
      "['Tarvarus McFadden', '6-2', '205', '21', 'CB']\n",
      "['Niles Scott', '6-3', '280', '22', 'DL']\n",
      "['Terrell Williams Jr.\\xa0', '6-4', '212', '22', 'S']\n",
      "['Ross Dwelley', '6-5', '240', '23', 'TE']\n",
      "['Steven Dunbar Jr.\\xa0', '6-3', '202', '22', 'WR']\n",
      "['Richie James Jr.\\xa0', '5-9', '185', '22', 'WR']\n",
      "['Jullian Taylor', '6-5', '280', '23', 'DT']\n",
      "['Marcell Harris', '6-0', '208', '24', 'S']\n",
      "['D.J. Reed Jr.\\xa0', '5-9', '188', '21', 'DB']\n",
      "['Tarvarius Moore', '6-2', '200', '22', 'DB']\n",
      "['Fred Warner', '6-3', '236', '21', 'LB']\n",
      "['Dante Pettis ', '6-1', '195', '22', 'WR']\n",
      "['Mike McGlinchey', '6-8', '315', '23', 'T']\n",
      "['Korey Toomer', '6-2', '235', '29', 'LB']\n",
      "['Jonathan Cooper', '6-2', '308', '28', 'G']\n",
      "['Jeff Locke', '6-0', '195', '28', 'P']\n",
      "['Jeremiah Attaochu', '6-3', '252', '25', 'DL']\n",
      "['Weston Richburg', '6-4', '290', '27', 'C']\n",
      "['Jerick McKinnon', '5-9', '205', '26', 'RB']\n",
      "['Richard Sherman', '6-3', '195', '30', 'CB']\n",
      "['Malcolm Johnson', '6-1', '231', '26', 'FB']\n",
      "['Elijah Lee', '6-2', '229', '22', 'LB']\n",
      "['Mark Nzeocha', '6-3', '240', '28', 'LB']\n",
      "['Bradley Pinion', '6-5', '240', '24', 'P']\n",
      "['Tyvis Powell', '6-2', '211', '24', 'DB']\n",
      "['Aldrick Robinson', '5-10', '187', '29', 'WR']\n",
      "['Joe Staley', '6-5', '295', '33', 'T']\n",
      "['Malcolm Smith', '6-0', '225', '29', 'LB']\n",
      "['Andrew Lauderdale', '6-6', '291', '24', 'OL']\n",
      "['Ahkello Witherspoon', '6-2', '195', '23', 'CB']\n",
      "['Joe Williams', '5-11', '205', '24', 'RB']\n",
      "[\"K'Waun Williams\", '5-9', '185', '27', 'CB']\n",
      "['Darrell Williams Jr.', '6-5', '310', '25', 'OL']\n",
      "['Cole Wick', '6-6', '257', '24', 'TE']\n",
      "['Dekoda Watson', '6-2', '245', '30', 'LB']\n",
      "['Max McCaffrey', '6-2', '200', '24', 'WR']\n",
      "['Jimmie Ward', '5-11', '193', '27', 'DB']\n",
      "['Laken Tomlinson', '6-3', '312', '26', 'OL']\n",
      "['Solomon Thomas', '6-2', '280', '22', 'DL']\n",
      "['Trent Taylor', '5-8', '180', '24', 'WR']\n",
      "['Jeremy McNichols', '5-9', '205', '22', 'RB']\n",
      "['Pita Taumoepenu', '6-1', '245', '24', 'LB']\n",
      "['Greg Mabin', '6-1', '200', '24', 'CB']\n",
      "['Jaquiski Tartt', '6-1', '215', '26', 'S']\n",
      "['Erik Magnuson', '6-4', '305', '24', 'OL']\n",
      "['Cassius Marsh', '6-4', '245', '26', 'DL']\n",
      "['Chanceller James', '6-2', '208', '23', 'S']\n",
      "['Kyle Nelson', '6-2', '240', '31', 'LS/TE']\n",
      "['Pace Murphy', '6-6', '308', '24', 'T']\n",
      "['Joshua Garnett', '6-5', '305', '24', 'G']\n",
      "['Earl Mitchell', '6-3', '310', '30', 'NT']\n",
      "['Cole Hikutini', '6-4', '247', '24', 'TE']\n",
      "['Eli Harold', '6-3', '257', '24', 'LB']\n",
      "['Raheem Mostert', '5-10', '197', '26', 'RB']\n",
      "['Robbie Gould', '6-0', '190', '35', 'K']\n",
      "['Nick Mullens', '6-1', '210', '23', 'QB']\n",
      "['Marquise Goodwin', '5-9', '180', '27', 'WR']\n",
      "['Garry Gilliam', '6-5', '305', '27', 'OL']\n",
      "['George Kittle', '6-4', '250', '24', 'TE']\n",
      "['Reuben Foster', '6-1', '228', '24', 'LB']\n",
      "['Antone Exum Jr.', '6-0', '219', '27', 'DB']\n",
      "['Sheldon Day', '6-1', '294', '24', 'DL']\n",
      "['Brock Coyle', '6-1', '245', '27', 'LB']\n",
      "['Adrian Colbert', '6-2', '205', '24', 'DB']\n",
      "['Garrett Celek', '6-5', '252', '30', 'TE']\n",
      "['Aaron Burbridge', '6-1', '208', '24', 'WR']\n",
      "['DeForest Buckner', '6-7', '300', '24', 'DL']\n",
      "['Kendrick Bourne', '6-1', '203', '23', 'WR']\n",
      "['Matt Breida', '5-10', '190', '23', 'RB']\n",
      "['Victor Bolden Jr.', '5-8', '178', '23', 'WR']\n",
      "['Ronald Blair III', '6-4', '270', '25', 'DL']\n",
      "['C.J. Beathard', '6-2', '215', '24', 'QB']\n",
      "['Arik Armstead', '6-7', '292', '24', 'DL']\n",
      "['D.J. Jones', '6-0', '321', '23', 'DL']\n",
      "['Pierre Garçon', '6-0', '211', '32', 'WR']\n",
      "['Jimmy Garoppolo', '6-2', '225', '26', 'QB']\n",
      "['Kyle Juszczyk', '6-1', '240', '27', 'FB']\n"
     ]
    }
   ],
   "source": [
    "nfl_main = nfl.find(id=\"main-content\")\n",
    "a = nfl_main.contents[7].div.div.div.div.table.tbody.contents\n",
    "count = 0\n",
    "total2 = []\n",
    "for i in a:\n",
    "    player = []\n",
    "    if count % 2 == 1:\n",
    "        x = []\n",
    "        text = str(i.div.span)\n",
    "        m = re.search('data-name=\"(.+?)\"><a', text)\n",
    "        if m:\n",
    "            name = m.group(1)\n",
    "        \n",
    "        college = str(i.contents[15]).strip('<td>').strip('</td>')\n",
    "        weight = re.search('<td>(.+?)</td>', str(i.contents[9])).group(1)\n",
    "        height = re.search('>(.+?)</td>', str(i.contents[7])).group(1)\n",
    "        pos = re.search('<td>(.+?)</td>', str(i.contents[5])).group(1)\n",
    "        age = str(i.contents[11])   \n",
    "        age = [s for s in age.split() if s.isdigit()]\n",
    "#         print(\"name = {}, height = {}, weight = {}, age = {}, pos = {}\".format(name, height, weight, age[0], pos))\n",
    "        player = [name] + [height] + [weight] + [age[0]] + [pos] + [college]\n",
    "        total2.append(player)\n",
    "    count += 1\n",
    "\n",
    "for i in total2:\n",
    "    print (i)"
   ]
  },
  {
   "cell_type": "code",
   "execution_count": 320,
   "metadata": {},
   "outputs": [
    {
     "ename": "TypeError",
     "evalue": "a bytes-like object is required, not 'str'",
     "output_type": "error",
     "traceback": [
      "\u001b[0;31m---------------------------------------------------------------------------\u001b[0m",
      "\u001b[0;31mTypeError\u001b[0m                                 Traceback (most recent call last)",
      "\u001b[0;32m<ipython-input-320-98cc94b5840c>\u001b[0m in \u001b[0;36m<module>\u001b[0;34m()\u001b[0m\n\u001b[1;32m      1\u001b[0m \u001b[0;32mwith\u001b[0m \u001b[0mopen\u001b[0m\u001b[0;34m(\u001b[0m\u001b[0;34m\"output.csv\"\u001b[0m\u001b[0;34m,\u001b[0m \u001b[0;34m\"wb\"\u001b[0m\u001b[0;34m)\u001b[0m \u001b[0;32mas\u001b[0m \u001b[0mf\u001b[0m\u001b[0;34m:\u001b[0m\u001b[0;34m\u001b[0m\u001b[0m\n\u001b[1;32m      2\u001b[0m     \u001b[0mwriter\u001b[0m \u001b[0;34m=\u001b[0m \u001b[0mcsv\u001b[0m\u001b[0;34m.\u001b[0m\u001b[0mwriter\u001b[0m\u001b[0;34m(\u001b[0m\u001b[0mf\u001b[0m\u001b[0;34m)\u001b[0m\u001b[0;34m\u001b[0m\u001b[0m\n\u001b[0;32m----> 3\u001b[0;31m     \u001b[0mwriter\u001b[0m\u001b[0;34m.\u001b[0m\u001b[0mwriterows\u001b[0m\u001b[0;34m(\u001b[0m\u001b[0mtotal2\u001b[0m\u001b[0;34m)\u001b[0m\u001b[0;34m\u001b[0m\u001b[0m\n\u001b[0m",
      "\u001b[0;31mTypeError\u001b[0m: a bytes-like object is required, not 'str'"
     ]
    }
   ],
   "source": [
    "with open(\"output.csv\", \"w\") as f:\n",
    "    writer = csv.writer(f)\n",
    "    writer.writerows(total2)"
   ]
  },
  {
   "cell_type": "code",
   "execution_count": null,
   "metadata": {},
   "outputs": [],
   "source": []
  }
 ],
 "metadata": {
  "kernelspec": {
   "display_name": "Python 3",
   "language": "python",
   "name": "python3"
  },
  "language_info": {
   "codemirror_mode": {
    "name": "ipython",
    "version": 3
   },
   "file_extension": ".py",
   "mimetype": "text/x-python",
   "name": "python",
   "nbconvert_exporter": "python",
   "pygments_lexer": "ipython3",
   "version": "3.6.5"
  }
 },
 "nbformat": 4,
 "nbformat_minor": 2
}
